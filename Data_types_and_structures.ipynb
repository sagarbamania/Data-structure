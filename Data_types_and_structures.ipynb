{
  "nbformat": 4,
  "nbformat_minor": 0,
  "metadata": {
    "colab": {
      "provenance": []
    },
    "kernelspec": {
      "name": "python3",
      "display_name": "Python 3"
    },
    "language_info": {
      "name": "python"
    }
  },
  "cells": [
    {
      "cell_type": "markdown",
      "source": [
        "# Data type and Structures\n"
      ],
      "metadata": {
        "id": "IL9v2TEqXH8h"
      }
    },
    {
      "cell_type": "markdown",
      "source": [
        "1.  What are data structures, and why are they important?"
      ],
      "metadata": {
        "id": "Kret12ZCXUXv"
      }
    },
    {
      "cell_type": "markdown",
      "source": [
        "- A data structure is a way to organize and store data in a computer so it can be used efficiently. Examples include arrays, linked lists, stacks, queues, trees, and graphs. Each data structure is suited for specific types of tasks and operations like searching, sorting, inserting, and deleting data.\n",
        "\n",
        "   Data structures are important because they help in writing efficient programs. They improve speed and save memory by allowing the right operations in the right way. They also help solve complex problems and make the code more organized and reusable. In real-life applications like databases, file systems, and social networks, data structures play a key role in managing and processing data."
      ],
      "metadata": {
        "id": "fyzo0rLTX5VY"
      }
    },
    {
      "cell_type": "markdown",
      "source": [
        "2. Explain the difference between mutable and immutable data types with examples?"
      ],
      "metadata": {
        "id": "k_NG8xTqYIGP"
      }
    },
    {
      "cell_type": "markdown",
      "source": [
        "-  In Python, mutable data types are those which can be changed after they are created, while immutable data types cannot be changed once they are made."
      ],
      "metadata": {
        "id": "WJnvBWsqYVt5"
      }
    },
    {
      "cell_type": "code",
      "source": [
        "#mutable\n",
        "\n",
        "my_list = [1, 2, 3]\n",
        "my_list[0] = 10\n",
        "my_list"
      ],
      "metadata": {
        "colab": {
          "base_uri": "https://localhost:8080/"
        },
        "id": "F9rQqhqHY2w3",
        "outputId": "c8b576dd-eb6c-41c2-fbdd-98b93dce8c34"
      },
      "execution_count": null,
      "outputs": [
        {
          "output_type": "execute_result",
          "data": {
            "text/plain": [
              "[10, 2, 3]"
            ]
          },
          "metadata": {},
          "execution_count": 2
        }
      ]
    },
    {
      "cell_type": "code",
      "source": [
        "#immutable\n",
        "\n",
        "my_tuple = (1, 2, 3)\n",
        "# my_tuple[0] = 10  → This will give an error because tuples can't be changed\n"
      ],
      "metadata": {
        "id": "vh0qiCcbZGsM"
      },
      "execution_count": null,
      "outputs": []
    },
    {
      "cell_type": "markdown",
      "source": [
        "3. What are the main differences between lists and tuples in Python ?"
      ],
      "metadata": {
        "id": "LwMvtuidZV3M"
      }
    },
    {
      "cell_type": "markdown",
      "source": [
        "- Lists are mutable, which means we can change, add, or remove items after the list is created.\n",
        "\n",
        "  Tuples are immutable, which means once a tuple is created, we cannot change its items.\n",
        "\n",
        "  Lists use square brackets [], while tuples use round brackets ()\n",
        "\n",
        "  Tuples are faster than lists in processing because they are fixed and use less memory.\n",
        "  \n",
        "  Lists are used when the data can change, like a list of marks or names."
      ],
      "metadata": {
        "id": "vHKbkH5NZag-"
      }
    },
    {
      "cell_type": "markdown",
      "source": [
        "4. Describe how dictionaries store data."
      ],
      "metadata": {
        "id": "5PVhQQk8afCW"
      }
    },
    {
      "cell_type": "markdown",
      "source": [
        "-  In Python, a dictionary stores data in the form of key-value pairs. This means each piece of data has a unique key, and the key is used to access its corresponding value. It’s like a real dictionary where you look up a word (key) to find its meaning (value)."
      ],
      "metadata": {
        "id": "2xogXdsvbNh9"
      }
    },
    {
      "cell_type": "markdown",
      "source": [
        "5. Why might you use a set instead of a list in Python?"
      ],
      "metadata": {
        "id": "5p8MIE96bbDL"
      }
    },
    {
      "cell_type": "markdown",
      "source": [
        "-  You might use a set instead of a list in Python when you want to store unique items only and remove duplicates automatically. Sets are also faster than lists for checking if an item exists. They are useful for doing set operations like union and intersection. But sets are unordered and don’t support indexing. So, use a set when you need unique, fast-access, and unordered data."
      ],
      "metadata": {
        "id": "ZJi3mEbdbibF"
      }
    },
    {
      "cell_type": "markdown",
      "source": [
        "6.  What is a string in Python, and how is it different from a list?"
      ],
      "metadata": {
        "id": "DQbcCtyCb-75"
      }
    },
    {
      "cell_type": "markdown",
      "source": [
        "- The main difference between a string and a list is that a string can only store characters, while a list can store any type of data like numbers, strings, or even other lists. Also, strings are immutable, which means you can't change the characters in a string after it's created. But lists are mutable, so you can change, add, or remove items."
      ],
      "metadata": {
        "id": "LDK80bddcGa_"
      }
    },
    {
      "cell_type": "markdown",
      "source": [
        "7. How do tuples ensure data integrity in Python?"
      ],
      "metadata": {
        "id": "0M5BIc-Tcr9s"
      }
    },
    {
      "cell_type": "markdown",
      "source": [
        "-  Tuples ensure data integrity in Python because they are immutable, meaning their values can’t be changed after creation. This protects the data from accidental changes and keeps it safe and constant throughout the program."
      ],
      "metadata": {
        "id": "KgpRIUoIdZhe"
      }
    },
    {
      "cell_type": "markdown",
      "source": [
        "8.  What is a hash table, and how does it relate to dictionaries in Python?\n",
        "-  \n",
        "A hash table is a data structure that stores data in key-value pairs and uses a hash function to quickly find the location of a value based on its key.\n",
        "\n",
        "  In Python, a dictionary is built using a hash table. When you use a key in a dictionary, Python runs it through a hash function to find where the value is stored. This makes lookups, insertions, and deletions very fast."
      ],
      "metadata": {
        "id": "TCVVMLKVdojq"
      }
    },
    {
      "cell_type": "markdown",
      "source": [
        "9. Can lists contain different data types in Pthon ?\n",
        "-  Yes, lists can contain different data types in Python. A single list can have numbers, strings, booleans, or even other lists."
      ],
      "metadata": {
        "id": "V26NWEq2eUbw"
      }
    },
    {
      "cell_type": "code",
      "source": [
        "my_list = [10, \"hello\", True, 3.14, [1, 2, 3]]\n"
      ],
      "metadata": {
        "id": "1LQkZWDifpfT"
      },
      "execution_count": null,
      "outputs": []
    },
    {
      "cell_type": "markdown",
      "source": [
        "10. Explain why strings are immutable in Python?\n",
        "- Strings are immutable in Python, which means you cannot change a string once it is created. This is done for performance and security reasons.\n",
        "\n",
        "  When you try to change a string, Python actually creates a new string instead of modifying the original one. This helps avoid unexpected bugs and makes strings safe to share between different parts of a program."
      ],
      "metadata": {
        "id": "Ijhx-pF-fszn"
      }
    },
    {
      "cell_type": "markdown",
      "source": [
        "11. What advantages do dictionaries offer over lists for certain tasks?\n",
        "-  Dictionaries offer several advantages over lists for certain tasks in Python. The main advantage is that dictionaries use keys to access values, which makes searching for data much faster compared to lists. In a list, you have to search through items by position (index), but in a dictionary, you can directly get a value using its key.\n",
        "\n",
        " Also, dictionaries are better when you want to store related data like a name and age, or student and marks. They make your code more clear and readable when working with such key-value relationships."
      ],
      "metadata": {
        "id": "ljc_JGywf64g"
      }
    },
    {
      "cell_type": "markdown",
      "source": [
        "12. Describe a scenario where using a tuple would be preferable over a list?\n",
        "-  A tuple is preferable over a list when you want to store data that should not change. For example, if you are storing the coordinates of a location, like (28.6139, 77.2090) for Delhi, it makes sense to use a tuple because these values are fixed and should not be modified.\n",
        "\n",
        "  Using a tuple in such cases ensures the data stays safe and unchanged, which helps maintain data integrity. Also, since tuples are faster and use less memory than lists, they are better when you just need to store constant, read-only data."
      ],
      "metadata": {
        "id": "2hhhrfWtgotK"
      }
    },
    {
      "cell_type": "markdown",
      "source": [
        "13.  How do sets handle duplicate values in Python ?\n",
        "\n",
        "- In Python, sets automatically remove duplicate values. When you create a set, it only keeps unique elements, no matter how many duplicates you add"
      ],
      "metadata": {
        "id": "R2BIE49FhEXx"
      }
    },
    {
      "cell_type": "code",
      "source": [
        "my_set = {1, 2, 2, 3, 3, 3}\n",
        "print(my_set)"
      ],
      "metadata": {
        "colab": {
          "base_uri": "https://localhost:8080/"
        },
        "id": "JDl25kFSixFE",
        "outputId": "c80ba7bd-10dd-4447-e59f-07dced773f23"
      },
      "execution_count": null,
      "outputs": [
        {
          "output_type": "stream",
          "name": "stdout",
          "text": [
            "{1, 2, 3}\n"
          ]
        }
      ]
    },
    {
      "cell_type": "markdown",
      "source": [
        "14. How does the “in” keyword work differently for lists and dictionaries?\n"
      ],
      "metadata": {
        "id": "uDqu1GvkhnD2"
      }
    },
    {
      "cell_type": "code",
      "source": [
        "my_list = [1, 2, 3] # in checks if a value exists in the list.\n",
        "print(2 in my_list)\n"
      ],
      "metadata": {
        "colab": {
          "base_uri": "https://localhost:8080/"
        },
        "id": "3NkLi54ajJtP",
        "outputId": "eb6176ac-3696-41cb-a471-7b3c5db4e7a8"
      },
      "execution_count": null,
      "outputs": [
        {
          "output_type": "stream",
          "name": "stdout",
          "text": [
            "True\n"
          ]
        }
      ]
    },
    {
      "cell_type": "code",
      "source": [
        "my_dict = {'a': 1, 'b': 2}  # in checks if a key exists, not the value.\n",
        "print('a' in my_dict)\n",
        "print(1 in my_dict)\n"
      ],
      "metadata": {
        "colab": {
          "base_uri": "https://localhost:8080/"
        },
        "id": "dl3OTg8DjK48",
        "outputId": "61cf1cad-f5ad-43ab-b6a2-6e564ace775c"
      },
      "execution_count": null,
      "outputs": [
        {
          "output_type": "stream",
          "name": "stdout",
          "text": [
            "True\n",
            "False\n"
          ]
        }
      ]
    },
    {
      "cell_type": "markdown",
      "source": [
        "15. Can you modify the elements of a tuple? Explain why or why not.\n",
        "- No, you cannot modify the elements of a tuple in Python. This is because tuples are immutable, which means once a tuple is created, its values cannot be changed, added, or removed.\n",
        "\n",
        "  Python does this to protect the data and make it more secure and reliable. Tuples are often used when you want to store fixed data that should not be accidentally changed in the program."
      ],
      "metadata": {
        "id": "VQ1Ns4Eii5X2"
      }
    },
    {
      "cell_type": "code",
      "source": [
        "my_tuple = (1, 2, 3)\n",
        "my_tuple[0] = 10  # This will give an error\n"
      ],
      "metadata": {
        "id": "LwvNN2XflGWL"
      },
      "execution_count": null,
      "outputs": []
    },
    {
      "cell_type": "markdown",
      "source": [
        "16. What is a nested dictionary, and give an example of its use case?\n",
        "- A nested dictionary in Python is a dictionary inside another dictionary. It allows you to store related data in a structured and organized way.\n"
      ],
      "metadata": {
        "id": "2bB5B_8-lK4R"
      }
    },
    {
      "cell_type": "code",
      "source": [
        "students = {\n",
        "    \"101\": {\"name\": \"Aman\", \"age\": 20, \"grade\": \"A\"},\n",
        "    \"102\": {\"name\": \"Riya\", \"age\": 21, \"grade\": \"B\"}\n",
        "}\n",
        "students"
      ],
      "metadata": {
        "colab": {
          "base_uri": "https://localhost:8080/"
        },
        "id": "9NUyW-DDlmXh",
        "outputId": "7ba7b7a9-0a5d-4662-a1c1-0ece05087b38"
      },
      "execution_count": null,
      "outputs": [
        {
          "output_type": "execute_result",
          "data": {
            "text/plain": [
              "{'101': {'name': 'Aman', 'age': 20, 'grade': 'A'},\n",
              " '102': {'name': 'Riya', 'age': 21, 'grade': 'B'}}"
            ]
          },
          "metadata": {},
          "execution_count": 9
        }
      ]
    },
    {
      "cell_type": "markdown",
      "source": [
        "17. Describe the time complexity of accessing elements in a dictionary?\n",
        "-  The time complexity of accessing elements in a dictionary in Python is O(1) on average. This means you can access a value by its key very quickly, no matter how large the dictionary is.\n",
        "\n",
        " This fast access is possible because dictionaries use a hash table internally. The key is converted into a hash, which points directly to the location of the value."
      ],
      "metadata": {
        "id": "9iimETo2l2g1"
      }
    },
    {
      "cell_type": "markdown",
      "source": [
        "18.  In what situations are lists preferred over dictionaries?\n",
        "-  Lists are preferred over dictionaries when:\n",
        "\n",
        " You need to store a simple ordered collection of items.\n",
        "\n",
        " The order of elements matters, like in a sequence or timeline.\n",
        "\n",
        " You are working with duplicate values, which dictionaries do not allow for keys.\n",
        "\n",
        " You only care about values, not key-value pairs.\n",
        "\n",
        " You need to loop through items in order, like printing numbers or names one by one."
      ],
      "metadata": {
        "id": "J6M8UizQmSrT"
      }
    },
    {
      "cell_type": "markdown",
      "source": [
        "19. Why are dictionaries considered unordered, and how does that affect data retrieval?\n",
        "-  Dictionaries are considered unordered because they store data by keys, not by position. You can’t access items by index, only by their keys. This means the order doesn’t matter, and you should not rely on it when retrieving data. Dictionaries are built for fast key-based lookups, not for keeping data in sequence."
      ],
      "metadata": {
        "id": "6HAHqqOXmxiF"
      }
    },
    {
      "cell_type": "markdown",
      "source": [
        "20.  Explain the difference between a list and a dictionary in terms of data retrieval.\n"
      ],
      "metadata": {
        "id": "sMkFxyRmnfb1"
      }
    },
    {
      "cell_type": "code",
      "source": [
        "#In a list, data is retrieved using a numerical index.\n",
        "\n",
        "my_list = [10, 20, 30]\n",
        "print(my_list[1])\n"
      ],
      "metadata": {
        "colab": {
          "base_uri": "https://localhost:8080/"
        },
        "id": "CR3v8_8nnpFm",
        "outputId": "9fe6b03d-731a-4f66-a74c-42010a66b181"
      },
      "execution_count": null,
      "outputs": [
        {
          "output_type": "stream",
          "name": "stdout",
          "text": [
            "20\n"
          ]
        }
      ]
    },
    {
      "cell_type": "code",
      "source": [
        "#In a dictionary, data is retrieved using a key.\n",
        "\n",
        "my_dict = {\"a\": 10, \"b\": 20}\n",
        "print(my_dict[\"b\"])\n"
      ],
      "metadata": {
        "colab": {
          "base_uri": "https://localhost:8080/"
        },
        "id": "36KDKOfvnqV2",
        "outputId": "1d7d34aa-e37d-48cf-b6b5-fc00ba19d640"
      },
      "execution_count": null,
      "outputs": [
        {
          "output_type": "stream",
          "name": "stdout",
          "text": [
            "20\n"
          ]
        }
      ]
    },
    {
      "cell_type": "markdown",
      "source": [
        "# Practical Questions"
      ],
      "metadata": {
        "id": "CvnnWnbPoGwH"
      }
    },
    {
      "cell_type": "markdown",
      "source": [
        "1. Write a code to create a string with your name and print it."
      ],
      "metadata": {
        "id": "K5g4TS5QoL4q"
      }
    },
    {
      "cell_type": "code",
      "source": [
        "my_name = \"Sagar Singh\"\n",
        "print(my_name)\n"
      ],
      "metadata": {
        "colab": {
          "base_uri": "https://localhost:8080/"
        },
        "id": "_2Q2OVebp8BS",
        "outputId": "a521af57-9650-4a75-c7af-4bbca116ea66"
      },
      "execution_count": null,
      "outputs": [
        {
          "output_type": "stream",
          "name": "stdout",
          "text": [
            "Sagar Singh\n"
          ]
        }
      ]
    },
    {
      "cell_type": "markdown",
      "source": [
        "2. Explain the difference between mutable and immutable data types with examples."
      ],
      "metadata": {
        "id": "V48MjXuzqMT-"
      }
    },
    {
      "cell_type": "code",
      "source": [
        "# mutable-You can change, add, or remove elements.\n",
        "\n",
        "my_list = [1, 2, 3]\n",
        "my_list[0] = 10  # Now it becomes [10, 2, 3]\n",
        "my_list\n"
      ],
      "metadata": {
        "colab": {
          "base_uri": "https://localhost:8080/"
        },
        "id": "ET2U5R-Tsfeo",
        "outputId": "5b5df6a4-f332-4824-faa9-28ead14f9ac1"
      },
      "execution_count": null,
      "outputs": [
        {
          "output_type": "execute_result",
          "data": {
            "text/plain": [
              "[10, 2, 3]"
            ]
          },
          "metadata": {},
          "execution_count": 18
        }
      ]
    },
    {
      "cell_type": "code",
      "source": [
        "# immutable-You cannot change their content. Any update creates a new object.\n",
        "\n",
        "\n",
        "my_str = \"hello\"\n",
        "my_str[0] = \"H\"  # Error! Strings can't be changed\n"
      ],
      "metadata": {
        "collapsed": true,
        "id": "r1UxXwtRsg_1"
      },
      "execution_count": null,
      "outputs": []
    },
    {
      "cell_type": "markdown",
      "source": [
        "3.  Write a code to slice the first 3 characters from the string \"Python Programming\"."
      ],
      "metadata": {
        "id": "NBbxFGnSwdbV"
      }
    },
    {
      "cell_type": "code",
      "source": [
        "text = \"Python Programming\"\n",
        "sliced = text[:3]\n",
        "print(sliced)\n"
      ],
      "metadata": {
        "colab": {
          "base_uri": "https://localhost:8080/"
        },
        "id": "Mnv4W0uPwy-H",
        "outputId": "04aca5d3-8d6f-42f5-e03e-8adba9927de2"
      },
      "execution_count": 1,
      "outputs": [
        {
          "output_type": "stream",
          "name": "stdout",
          "text": [
            "Pyt\n"
          ]
        }
      ]
    },
    {
      "cell_type": "markdown",
      "source": [
        "4. Write a code to convert the string \"hello\" to uppercase."
      ],
      "metadata": {
        "id": "WQFrR0nTw5ZI"
      }
    },
    {
      "cell_type": "code",
      "source": [
        "text = \"hello\"\n",
        "upper_text = text.upper()\n",
        "print(upper_text)\n"
      ],
      "metadata": {
        "colab": {
          "base_uri": "https://localhost:8080/"
        },
        "id": "ovNEWzjUxF_p",
        "outputId": "c6fedef6-122a-4dc4-bafc-f20364d4e0b0"
      },
      "execution_count": 2,
      "outputs": [
        {
          "output_type": "stream",
          "name": "stdout",
          "text": [
            "HELLO\n"
          ]
        }
      ]
    },
    {
      "cell_type": "markdown",
      "source": [
        "5. Write a code to replace the word \"apple\" with \"orange\" in the string \"I like apple\"."
      ],
      "metadata": {
        "id": "BPGw08mFxH70"
      }
    },
    {
      "cell_type": "code",
      "source": [
        "text = \"I like apple\"\n",
        "new_text = text.replace(\"apple\", \"orange\")\n",
        "print(new_text)\n"
      ],
      "metadata": {
        "colab": {
          "base_uri": "https://localhost:8080/"
        },
        "id": "BsUo_8DDxNh1",
        "outputId": "ee8cfb42-5ab9-4c3f-f06d-d7fb34396952"
      },
      "execution_count": 3,
      "outputs": [
        {
          "output_type": "stream",
          "name": "stdout",
          "text": [
            "I like orange\n"
          ]
        }
      ]
    },
    {
      "cell_type": "markdown",
      "source": [
        "6. Write a code to create a list with numbers 1 to 5 and print it."
      ],
      "metadata": {
        "id": "RzsvGZ1Xxapy"
      }
    },
    {
      "cell_type": "code",
      "source": [
        "numbers = [1, 2, 3, 4, 5]\n",
        "print(numbers)\n"
      ],
      "metadata": {
        "colab": {
          "base_uri": "https://localhost:8080/"
        },
        "id": "Ixlgz4v0x7lt",
        "outputId": "57bdd0a1-465d-435e-af86-74f71efc6afc"
      },
      "execution_count": 4,
      "outputs": [
        {
          "output_type": "stream",
          "name": "stdout",
          "text": [
            "[1, 2, 3, 4, 5]\n"
          ]
        }
      ]
    },
    {
      "cell_type": "markdown",
      "source": [
        "7. Write a code to append the number 10 to the list [1, 2, 3, 4]."
      ],
      "metadata": {
        "id": "j3Rk3Gx-x-E7"
      }
    },
    {
      "cell_type": "code",
      "source": [
        "my_list = [1, 2, 3, 4]\n",
        "my_list.append(10)\n",
        "print(my_list)\n"
      ],
      "metadata": {
        "colab": {
          "base_uri": "https://localhost:8080/"
        },
        "id": "zqc4CVj6yHd_",
        "outputId": "ba3af3d3-9c17-4c6f-cd48-cd6378b44401"
      },
      "execution_count": 5,
      "outputs": [
        {
          "output_type": "stream",
          "name": "stdout",
          "text": [
            "[1, 2, 3, 4, 10]\n"
          ]
        }
      ]
    },
    {
      "cell_type": "markdown",
      "source": [
        "8. Write a code to remove the number 3 from the list [1, 2, 3, 4, 5]."
      ],
      "metadata": {
        "id": "S_aG7YDAyT18"
      }
    },
    {
      "cell_type": "code",
      "source": [
        "my_list = [1, 2, 3, 4, 5]\n",
        "my_list.remove(3)\n",
        "print(my_list)\n"
      ],
      "metadata": {
        "colab": {
          "base_uri": "https://localhost:8080/"
        },
        "id": "y7R5T1QTyc6b",
        "outputId": "9cf7ed62-fad7-4f6e-83aa-bfcbcc5549fa"
      },
      "execution_count": 6,
      "outputs": [
        {
          "output_type": "stream",
          "name": "stdout",
          "text": [
            "[1, 2, 4, 5]\n"
          ]
        }
      ]
    },
    {
      "cell_type": "markdown",
      "source": [
        "9. Write a code to access the second element in the list ['a', 'b', 'c', 'd']."
      ],
      "metadata": {
        "id": "OFqU_83zyjny"
      }
    },
    {
      "cell_type": "code",
      "source": [
        "my_list = ['a', 'b', 'c', 'd']\n",
        "second_element = my_list[1]\n",
        "print(second_element)\n"
      ],
      "metadata": {
        "colab": {
          "base_uri": "https://localhost:8080/"
        },
        "id": "xG9ZmjfNysd9",
        "outputId": "a4eb70fa-fd77-4261-923f-9a0838d14e3c"
      },
      "execution_count": 7,
      "outputs": [
        {
          "output_type": "stream",
          "name": "stdout",
          "text": [
            "b\n"
          ]
        }
      ]
    },
    {
      "cell_type": "markdown",
      "source": [
        "10.  Write a code to reverse the list [10, 20, 30, 40, 50]."
      ],
      "metadata": {
        "id": "oCTp0o_lzcRD"
      }
    },
    {
      "cell_type": "code",
      "source": [
        "my_list = [10, 20, 30, 40, 50]\n",
        "my_list.reverse()\n",
        "print(my_list)\n"
      ],
      "metadata": {
        "colab": {
          "base_uri": "https://localhost:8080/"
        },
        "id": "KYD-s1VEzRaz",
        "outputId": "b1f9db95-a2d6-46b8-d101-df6d8f833eaa"
      },
      "execution_count": 8,
      "outputs": [
        {
          "output_type": "stream",
          "name": "stdout",
          "text": [
            "[50, 40, 30, 20, 10]\n"
          ]
        }
      ]
    },
    {
      "cell_type": "markdown",
      "source": [
        "11.  Write a code to create a tuple with the elements 100, 200, 300 and print it."
      ],
      "metadata": {
        "id": "l2OpodMwzphW"
      }
    },
    {
      "cell_type": "code",
      "source": [
        "my_tuple = (100, 200, 300)\n",
        "print(my_tuple)\n"
      ],
      "metadata": {
        "colab": {
          "base_uri": "https://localhost:8080/"
        },
        "id": "V2QGKLbyzzIb",
        "outputId": "c6a7a369-e692-425b-b393-97bb6b64ec4d"
      },
      "execution_count": 9,
      "outputs": [
        {
          "output_type": "stream",
          "name": "stdout",
          "text": [
            "(100, 200, 300)\n"
          ]
        }
      ]
    },
    {
      "cell_type": "markdown",
      "source": [
        "12.  Write a code to access the second-to-last element of the tuple ('red', 'green', 'blue', 'yellow')."
      ],
      "metadata": {
        "id": "FUuHoFTZz6MF"
      }
    },
    {
      "cell_type": "code",
      "source": [
        "my_tuple = ('red', 'green', 'blue', 'yellow')\n",
        "second_last = my_tuple[-2]\n",
        "print(second_last)\n"
      ],
      "metadata": {
        "colab": {
          "base_uri": "https://localhost:8080/"
        },
        "id": "WRRd5eu70Awz",
        "outputId": "e7c8e699-a406-4111-90d7-b1fa0ffd47c0"
      },
      "execution_count": 10,
      "outputs": [
        {
          "output_type": "stream",
          "name": "stdout",
          "text": [
            "blue\n"
          ]
        }
      ]
    },
    {
      "cell_type": "markdown",
      "source": [
        "13.  Write a code to find the minimum number in the tuple (10, 20, 5, 15)."
      ],
      "metadata": {
        "id": "h3W598Qs0KWb"
      }
    },
    {
      "cell_type": "code",
      "source": [
        "my_tuple = (10, 20, 5, 15)\n",
        "min_number = min(my_tuple)\n",
        "print(min_number)\n"
      ],
      "metadata": {
        "colab": {
          "base_uri": "https://localhost:8080/"
        },
        "id": "vy6f5PSx0MjJ",
        "outputId": "4c1f918c-03b3-4148-e2b2-64d4c6448d50"
      },
      "execution_count": 11,
      "outputs": [
        {
          "output_type": "stream",
          "name": "stdout",
          "text": [
            "5\n"
          ]
        }
      ]
    },
    {
      "cell_type": "markdown",
      "source": [
        "14.  Write a code to find the index of the element \"cat\" in the tuple ('dog', 'cat', 'rabbit')."
      ],
      "metadata": {
        "id": "zg3zov_V0WwU"
      }
    },
    {
      "cell_type": "code",
      "source": [
        "animals = ('dog', 'cat', 'rabbit')\n",
        "index_of_cat = animals.index('cat')\n",
        "print(index_of_cat)\n"
      ],
      "metadata": {
        "colab": {
          "base_uri": "https://localhost:8080/"
        },
        "id": "RYWbmFGw0ZUR",
        "outputId": "a3f106b9-45cf-493d-d3ff-aa8fad6265dc"
      },
      "execution_count": 12,
      "outputs": [
        {
          "output_type": "stream",
          "name": "stdout",
          "text": [
            "1\n"
          ]
        }
      ]
    },
    {
      "cell_type": "markdown",
      "source": [
        "15.  Write a code to create a tuple containing three different fruits and check if \"kiwi\" is in it."
      ],
      "metadata": {
        "id": "It4WFwtm0iSH"
      }
    },
    {
      "cell_type": "code",
      "source": [
        "fruits = (\"apple\", \"banana\", \"orange\")\n",
        "if \"kiwi\" in fruits:\n",
        "    print(\"Kiwi is in the tuple.\")\n",
        "else:\n",
        "    print(\"Kiwi is not in the tuple.\")\n"
      ],
      "metadata": {
        "colab": {
          "base_uri": "https://localhost:8080/"
        },
        "id": "Eeh_fjfi0rnG",
        "outputId": "030a6a9c-488c-412b-b000-83479fff0a53"
      },
      "execution_count": 13,
      "outputs": [
        {
          "output_type": "stream",
          "name": "stdout",
          "text": [
            "Kiwi is not in the tuple.\n"
          ]
        }
      ]
    },
    {
      "cell_type": "markdown",
      "source": [
        "16.  Write a code to create a set with the elements 'a', 'b', 'c' and print it."
      ],
      "metadata": {
        "id": "ZGhECy-R0y4Y"
      }
    },
    {
      "cell_type": "code",
      "source": [
        "my_set = {'a', 'b', 'c'}\n",
        "print(my_set)\n"
      ],
      "metadata": {
        "colab": {
          "base_uri": "https://localhost:8080/"
        },
        "id": "xr3QtIvF08CE",
        "outputId": "c2819ecd-cc08-47b4-e297-d3dabf803431"
      },
      "execution_count": 14,
      "outputs": [
        {
          "output_type": "stream",
          "name": "stdout",
          "text": [
            "{'b', 'a', 'c'}\n"
          ]
        }
      ]
    },
    {
      "cell_type": "markdown",
      "source": [
        "17.  Write a code to clear all elements from the set {1, 2, 3, 4, 5}."
      ],
      "metadata": {
        "id": "2UpnIqAv0_2v"
      }
    },
    {
      "cell_type": "code",
      "source": [
        "my_set = {1, 2, 3, 4, 5}\n",
        "my_set.clear()\n",
        "print(my_set)\n"
      ],
      "metadata": {
        "colab": {
          "base_uri": "https://localhost:8080/"
        },
        "id": "dYLDmlz61Ib1",
        "outputId": "c347f1eb-09c0-4bf7-92dc-5160b3b8ce60"
      },
      "execution_count": 15,
      "outputs": [
        {
          "output_type": "stream",
          "name": "stdout",
          "text": [
            "set()\n"
          ]
        }
      ]
    },
    {
      "cell_type": "markdown",
      "source": [
        "18.  Write a code to remove the element 4 from the set {1, 2, 3, 4}."
      ],
      "metadata": {
        "id": "7eltFHhD1NlP"
      }
    },
    {
      "cell_type": "code",
      "source": [
        "my_set = {1, 2, 3, 4}\n",
        "my_set.remove(4)\n",
        "print(my_set)\n"
      ],
      "metadata": {
        "colab": {
          "base_uri": "https://localhost:8080/"
        },
        "id": "lU_eSmbA1P0x",
        "outputId": "9cea2a9d-e86a-4a06-e31f-1439949125d6"
      },
      "execution_count": 16,
      "outputs": [
        {
          "output_type": "stream",
          "name": "stdout",
          "text": [
            "{1, 2, 3}\n"
          ]
        }
      ]
    },
    {
      "cell_type": "markdown",
      "source": [
        "19.  Write a code to find the union of two sets {1, 2, 3} and {3, 4, 5}."
      ],
      "metadata": {
        "id": "S0d2paaf1i5e"
      }
    },
    {
      "cell_type": "code",
      "source": [
        "set1 = {1, 2, 3}\n",
        "set2 = {3, 4, 5}\n",
        "union_set = set1.union(set2)\n",
        "print(union_set)\n"
      ],
      "metadata": {
        "colab": {
          "base_uri": "https://localhost:8080/"
        },
        "id": "WhpsE_Ow1qQW",
        "outputId": "1693bae4-1f0f-434d-f616-f36b52eee280"
      },
      "execution_count": 17,
      "outputs": [
        {
          "output_type": "stream",
          "name": "stdout",
          "text": [
            "{1, 2, 3, 4, 5}\n"
          ]
        }
      ]
    },
    {
      "cell_type": "markdown",
      "source": [
        "20.  Write a code to find the intersection of two sets {1, 2, 3} and {2, 3, 4}."
      ],
      "metadata": {
        "id": "OFmQ0oLd12qY"
      }
    },
    {
      "cell_type": "code",
      "source": [
        "set1 = {1, 2, 3}\n",
        "set2 = {2, 3, 4}\n",
        "intersection_set = set1.intersection(set2)\n",
        "print(intersection_set)\n"
      ],
      "metadata": {
        "colab": {
          "base_uri": "https://localhost:8080/"
        },
        "id": "W9yDeZWX12Pu",
        "outputId": "7498121e-2362-4922-d595-0432ec4f0e6a"
      },
      "execution_count": 18,
      "outputs": [
        {
          "output_type": "stream",
          "name": "stdout",
          "text": [
            "{2, 3}\n"
          ]
        }
      ]
    },
    {
      "cell_type": "markdown",
      "source": [
        "21. Write a code to create a dictionary with the keys \"name\", \"age\", and \"city\", and print it."
      ],
      "metadata": {
        "id": "Yk9hc6UK2ots"
      }
    },
    {
      "cell_type": "code",
      "source": [
        "person = {\n",
        "    \"name\": \"joun alia\",\n",
        "    \"age\": 25,\n",
        "    \"city\": \"pakistan\"\n",
        "}\n",
        "print(person)\n"
      ],
      "metadata": {
        "colab": {
          "base_uri": "https://localhost:8080/"
        },
        "id": "lveyDGIh23Ms",
        "outputId": "fc90f3f7-0cd8-4177-fd4a-744d5302526a"
      },
      "execution_count": 19,
      "outputs": [
        {
          "output_type": "stream",
          "name": "stdout",
          "text": [
            "{'name': 'joun alia', 'age': 25, 'city': 'pakistan'}\n"
          ]
        }
      ]
    },
    {
      "cell_type": "markdown",
      "source": [
        "22.  Write a code to add a new key-value pair \"country\": \"USA\" to the dictionary {'name': 'John', 'age': 25}."
      ],
      "metadata": {
        "id": "y0xyx-AT3Wzg"
      }
    },
    {
      "cell_type": "code",
      "source": [
        "person = {'name': 'John', 'age': 25}\n",
        "person['country'] = 'USA'\n",
        "print(person)\n"
      ],
      "metadata": {
        "colab": {
          "base_uri": "https://localhost:8080/"
        },
        "id": "GWbqUtHR3iEl",
        "outputId": "545db455-2804-4b8d-d675-76f7a6f7c32a"
      },
      "execution_count": 20,
      "outputs": [
        {
          "output_type": "stream",
          "name": "stdout",
          "text": [
            "{'name': 'John', 'age': 25, 'country': 'USA'}\n"
          ]
        }
      ]
    },
    {
      "cell_type": "markdown",
      "source": [
        "23.  Write a code to access the value associated with the key \"name\" in the dictionary {'name': 'Alice', 'age': 30}."
      ],
      "metadata": {
        "id": "qUCojVkD4RuH"
      }
    },
    {
      "cell_type": "code",
      "source": [
        "person = {'name': 'Alice', 'age': 30}\n",
        "print(person['name'])\n"
      ],
      "metadata": {
        "colab": {
          "base_uri": "https://localhost:8080/"
        },
        "id": "xyxUKEJI4ceB",
        "outputId": "2cef4a64-40d1-408c-f4bf-d5411fdf7d4a"
      },
      "execution_count": 21,
      "outputs": [
        {
          "output_type": "stream",
          "name": "stdout",
          "text": [
            "Alice\n"
          ]
        }
      ]
    },
    {
      "cell_type": "markdown",
      "source": [
        "24.  Write a code to remove the key \"age\" from the dictionary {'name': 'Bob', 'age': 22, 'city': 'New York'}."
      ],
      "metadata": {
        "id": "sb5Rsp0c4hpn"
      }
    },
    {
      "cell_type": "code",
      "source": [
        "person = {'name': 'Bob', 'age': 22, 'city': 'New York'}\n",
        "del person['age']\n",
        "print(person)\n"
      ],
      "metadata": {
        "colab": {
          "base_uri": "https://localhost:8080/"
        },
        "id": "mElwCtFw4xMW",
        "outputId": "699c63a7-ed2e-401c-db00-17cf1515f7a7"
      },
      "execution_count": 22,
      "outputs": [
        {
          "output_type": "stream",
          "name": "stdout",
          "text": [
            "{'name': 'Bob', 'city': 'New York'}\n"
          ]
        }
      ]
    },
    {
      "cell_type": "markdown",
      "source": [
        "25. Write a code to check if the key \"city\" exists in the dictionary {'name': 'Alice', 'city': 'Paris'}."
      ],
      "metadata": {
        "id": "hn6J_Lqr41Y8"
      }
    },
    {
      "cell_type": "code",
      "source": [
        "person = {'name': 'Alice', 'city': 'Paris'}\n",
        "\n",
        "if 'city' in person:\n",
        "    print(\"Key 'city' exists in the dictionary.\")\n",
        "else:\n",
        "    print(\"Key 'city' does not exist.\")\n"
      ],
      "metadata": {
        "colab": {
          "base_uri": "https://localhost:8080/"
        },
        "id": "qZnpjISI47Vn",
        "outputId": "93cc9670-2416-491e-c517-448b0f333e93"
      },
      "execution_count": 23,
      "outputs": [
        {
          "output_type": "stream",
          "name": "stdout",
          "text": [
            "Key 'city' exists in the dictionary.\n"
          ]
        }
      ]
    },
    {
      "cell_type": "markdown",
      "source": [
        "26. Write a code to create a list, a tuple, and a dictionary, and print them all."
      ],
      "metadata": {
        "id": "uxM_hwFA5FEM"
      }
    },
    {
      "cell_type": "code",
      "source": [
        "my_list = [1, 2, 3, 4, 5]\n",
        "my_tuple = ('a', 'b', 'c')\n",
        "my_dict = {'name': 'Sagar', 'age': 21}\n",
        "\n",
        "print(\"List:\", my_list)\n",
        "print(\"Tuple:\", my_tuple)\n",
        "print(\"Dictionary:\", my_dict)\n"
      ],
      "metadata": {
        "colab": {
          "base_uri": "https://localhost:8080/"
        },
        "id": "jvqEP1JS5Yxm",
        "outputId": "86ca5416-77b6-4b15-ffd1-c009d1da831b"
      },
      "execution_count": 24,
      "outputs": [
        {
          "output_type": "stream",
          "name": "stdout",
          "text": [
            "List: [1, 2, 3, 4, 5]\n",
            "Tuple: ('a', 'b', 'c')\n",
            "Dictionary: {'name': 'Sagar', 'age': 21}\n"
          ]
        }
      ]
    },
    {
      "cell_type": "markdown",
      "source": [
        "27.  Write a code to create a list of 5 random numbers between 1 and 100, sort it in ascending order, and print the\n",
        "result.(replaced)"
      ],
      "metadata": {
        "id": "2l6XRZ1U5n72"
      }
    },
    {
      "cell_type": "code",
      "source": [
        "import random\n",
        "\n",
        "numbers = random.sample(range(1, 101), 5)\n",
        "numbers.sort()\n",
        "\n",
        "print(\"Sorted list:\", numbers)\n",
        "\n"
      ],
      "metadata": {
        "colab": {
          "base_uri": "https://localhost:8080/"
        },
        "id": "wRXvVlMp51Zr",
        "outputId": "306d1bbe-76f9-4fb9-81b8-c5f5a6212760"
      },
      "execution_count": 25,
      "outputs": [
        {
          "output_type": "stream",
          "name": "stdout",
          "text": [
            "Sorted list: [3, 16, 17, 60, 74]\n"
          ]
        }
      ]
    },
    {
      "cell_type": "markdown",
      "source": [
        "28.  Write a code to create a list with strings and print the element at the third index."
      ],
      "metadata": {
        "id": "ZuwhVYPt7aJ9"
      }
    },
    {
      "cell_type": "code",
      "source": [
        "my_list = ['apple', 'banana', 'cherry', 'date', 'elderberry']\n",
        "print(\"Element at third index:\", my_list[3])\n"
      ],
      "metadata": {
        "colab": {
          "base_uri": "https://localhost:8080/"
        },
        "id": "J3lW1qcy53Dh",
        "outputId": "39c4db94-a3d5-47be-abf6-0b54391003c1"
      },
      "execution_count": 26,
      "outputs": [
        {
          "output_type": "stream",
          "name": "stdout",
          "text": [
            "Element at third index: date\n"
          ]
        }
      ]
    },
    {
      "cell_type": "markdown",
      "source": [
        "29.  Write a code to combine two dictionaries into one and print the result.\n",
        "\n"
      ],
      "metadata": {
        "id": "EP3WBwAH7sBs"
      }
    },
    {
      "cell_type": "code",
      "source": [
        "dict1 = {'name': 'Alice', 'age': 25}\n",
        "dict2 = {'city': 'Paris', 'country': 'France'}\n",
        "\n",
        "combined_dict = {**dict1, **dict2}\n",
        "print(\"Combined Dictionary:\", combined_dict)\n"
      ],
      "metadata": {
        "colab": {
          "base_uri": "https://localhost:8080/"
        },
        "id": "cEBGGh4W74KC",
        "outputId": "95494246-7728-47dd-bf1d-d237a7557ee9"
      },
      "execution_count": 27,
      "outputs": [
        {
          "output_type": "stream",
          "name": "stdout",
          "text": [
            "Combined Dictionary: {'name': 'Alice', 'age': 25, 'city': 'Paris', 'country': 'France'}\n"
          ]
        }
      ]
    },
    {
      "cell_type": "markdown",
      "source": [
        "30. Write a code to convert a list of strings into a set."
      ],
      "metadata": {
        "id": "pdsl-7SO8H43"
      }
    },
    {
      "cell_type": "code",
      "source": [
        "my_list = [\"apple\", \"banana\", \"kela\"]\n",
        "my_set = set(my_list)\n",
        "\n",
        "print(\"Set:\", my_set)\n"
      ],
      "metadata": {
        "colab": {
          "base_uri": "https://localhost:8080/"
        },
        "id": "PigsPY_T761b",
        "outputId": "9c62cb79-2188-4fc5-f0f7-8a12795bebea"
      },
      "execution_count": 29,
      "outputs": [
        {
          "output_type": "stream",
          "name": "stdout",
          "text": [
            "Set: {'banana', 'kela', 'apple'}\n"
          ]
        }
      ]
    }
  ]
}